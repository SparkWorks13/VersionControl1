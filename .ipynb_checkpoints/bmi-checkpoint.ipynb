{
 "cells": [
  {
   "cell_type": "code",
   "execution_count": 6,
   "metadata": {},
   "outputs": [
    {
     "name": "stdin",
     "output_type": "stream",
     "text": [
      "Please enter your name:  Tyler\n",
      "Do you use imperial or metric system (i/m)?  i\n",
      "Enter your height in inches:  71\n",
      "Please enter your weight in pounds:  128\n"
     ]
    },
    {
     "name": "stdout",
     "output_type": "stream",
     "text": [
      "Tyler, your bmi score is: 17.85042650267804\n"
     ]
    }
   ],
   "source": [
    "def metric():\n",
    "    height = (float(input(\"Enter your height in cm: \"))/100)**2\n",
    "    weight = float(input(\"Enter your weight in kg: \"))\n",
    "    return height/weight\n",
    "\n",
    "def imperial():\n",
    "    sqHeight = int(input(\"Enter your height in inches: \"))**2\n",
    "    weight = int(input(\"Please enter your weight in pounds: \"))\n",
    "    return 703*(weight/sqHeight)\n",
    "\n",
    "name = input(\"Please enter your name: \")\n",
    "sys = input(\"Do you use imperial or metric system (i/m)? \")\n",
    "\n",
    "if sys==\"i\":\n",
    "    bmi = imperial()\n",
    "else:\n",
    "    bmi = metric()\n",
    "\n",
    "print(name+\", your bmi score is:\", bmi)"
   ]
  },
  {
   "cell_type": "code",
   "execution_count": null,
   "metadata": {},
   "outputs": [],
   "source": []
  }
 ],
 "metadata": {
  "kernelspec": {
   "display_name": "Python 3",
   "language": "python",
   "name": "python3"
  },
  "language_info": {
   "codemirror_mode": {
    "name": "ipython",
    "version": 3
   },
   "file_extension": ".py",
   "mimetype": "text/x-python",
   "name": "python",
   "nbconvert_exporter": "python",
   "pygments_lexer": "ipython3",
   "version": "3.8.3"
  }
 },
 "nbformat": 4,
 "nbformat_minor": 4
}
